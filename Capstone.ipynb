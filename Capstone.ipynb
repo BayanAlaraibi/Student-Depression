{
 "cells": [
  {
   "cell_type": "code",
   "execution_count": 2,
   "id": "e10aa6c6-08de-4c8f-b6ab-2a5a5e92e0d9",
   "metadata": {},
   "outputs": [],
   "source": [
    "import pandas as pd "
   ]
  },
  {
   "cell_type": "code",
   "execution_count": 3,
   "id": "ed1918ba-f094-40c3-9697-df2c1588dd79",
   "metadata": {},
   "outputs": [
    {
     "data": {
      "text/html": [
       "<div>\n",
       "<style scoped>\n",
       "    .dataframe tbody tr th:only-of-type {\n",
       "        vertical-align: middle;\n",
       "    }\n",
       "\n",
       "    .dataframe tbody tr th {\n",
       "        vertical-align: top;\n",
       "    }\n",
       "\n",
       "    .dataframe thead th {\n",
       "        text-align: right;\n",
       "    }\n",
       "</style>\n",
       "<table border=\"1\" class=\"dataframe\">\n",
       "  <thead>\n",
       "    <tr style=\"text-align: right;\">\n",
       "      <th></th>\n",
       "      <th>id</th>\n",
       "      <th>Gender</th>\n",
       "      <th>Age</th>\n",
       "      <th>City</th>\n",
       "      <th>Profession</th>\n",
       "      <th>Academic Pressure</th>\n",
       "      <th>Work Pressure</th>\n",
       "      <th>CGPA</th>\n",
       "      <th>Study Satisfaction</th>\n",
       "      <th>Job Satisfaction</th>\n",
       "      <th>Sleep Duration</th>\n",
       "      <th>Dietary Habits</th>\n",
       "      <th>Degree</th>\n",
       "      <th>Have you ever had suicidal thoughts ?</th>\n",
       "      <th>Work/Study Hours</th>\n",
       "      <th>Financial Stress</th>\n",
       "      <th>Family History of Mental Illness</th>\n",
       "      <th>Depression</th>\n",
       "    </tr>\n",
       "  </thead>\n",
       "  <tbody>\n",
       "    <tr>\n",
       "      <th>0</th>\n",
       "      <td>2</td>\n",
       "      <td>Male</td>\n",
       "      <td>33</td>\n",
       "      <td>Visakhapatnam</td>\n",
       "      <td>Student</td>\n",
       "      <td>5</td>\n",
       "      <td>0</td>\n",
       "      <td>8.97</td>\n",
       "      <td>2</td>\n",
       "      <td>0</td>\n",
       "      <td>'5-6 hours'</td>\n",
       "      <td>Healthy</td>\n",
       "      <td>B.Pharm</td>\n",
       "      <td>Yes</td>\n",
       "      <td>3</td>\n",
       "      <td>1</td>\n",
       "      <td>No</td>\n",
       "      <td>1</td>\n",
       "    </tr>\n",
       "    <tr>\n",
       "      <th>1</th>\n",
       "      <td>8</td>\n",
       "      <td>Female</td>\n",
       "      <td>24</td>\n",
       "      <td>Bangalore</td>\n",
       "      <td>Student</td>\n",
       "      <td>2</td>\n",
       "      <td>0</td>\n",
       "      <td>5.90</td>\n",
       "      <td>5</td>\n",
       "      <td>0</td>\n",
       "      <td>'5-6 hours'</td>\n",
       "      <td>Moderate</td>\n",
       "      <td>BSc</td>\n",
       "      <td>No</td>\n",
       "      <td>3</td>\n",
       "      <td>2</td>\n",
       "      <td>Yes</td>\n",
       "      <td>0</td>\n",
       "    </tr>\n",
       "    <tr>\n",
       "      <th>2</th>\n",
       "      <td>26</td>\n",
       "      <td>Male</td>\n",
       "      <td>31</td>\n",
       "      <td>Srinagar</td>\n",
       "      <td>Student</td>\n",
       "      <td>3</td>\n",
       "      <td>0</td>\n",
       "      <td>7.03</td>\n",
       "      <td>5</td>\n",
       "      <td>0</td>\n",
       "      <td>'Less than 5 hours'</td>\n",
       "      <td>Healthy</td>\n",
       "      <td>BA</td>\n",
       "      <td>No</td>\n",
       "      <td>9</td>\n",
       "      <td>1</td>\n",
       "      <td>Yes</td>\n",
       "      <td>0</td>\n",
       "    </tr>\n",
       "    <tr>\n",
       "      <th>3</th>\n",
       "      <td>30</td>\n",
       "      <td>Female</td>\n",
       "      <td>28</td>\n",
       "      <td>Varanasi</td>\n",
       "      <td>Student</td>\n",
       "      <td>3</td>\n",
       "      <td>0</td>\n",
       "      <td>5.59</td>\n",
       "      <td>2</td>\n",
       "      <td>0</td>\n",
       "      <td>'7-8 hours'</td>\n",
       "      <td>Moderate</td>\n",
       "      <td>BCA</td>\n",
       "      <td>Yes</td>\n",
       "      <td>4</td>\n",
       "      <td>5</td>\n",
       "      <td>Yes</td>\n",
       "      <td>1</td>\n",
       "    </tr>\n",
       "    <tr>\n",
       "      <th>4</th>\n",
       "      <td>32</td>\n",
       "      <td>Female</td>\n",
       "      <td>25</td>\n",
       "      <td>Jaipur</td>\n",
       "      <td>Student</td>\n",
       "      <td>4</td>\n",
       "      <td>0</td>\n",
       "      <td>8.13</td>\n",
       "      <td>3</td>\n",
       "      <td>0</td>\n",
       "      <td>'5-6 hours'</td>\n",
       "      <td>Moderate</td>\n",
       "      <td>M.Tech</td>\n",
       "      <td>Yes</td>\n",
       "      <td>1</td>\n",
       "      <td>1</td>\n",
       "      <td>No</td>\n",
       "      <td>0</td>\n",
       "    </tr>\n",
       "    <tr>\n",
       "      <th>...</th>\n",
       "      <td>...</td>\n",
       "      <td>...</td>\n",
       "      <td>...</td>\n",
       "      <td>...</td>\n",
       "      <td>...</td>\n",
       "      <td>...</td>\n",
       "      <td>...</td>\n",
       "      <td>...</td>\n",
       "      <td>...</td>\n",
       "      <td>...</td>\n",
       "      <td>...</td>\n",
       "      <td>...</td>\n",
       "      <td>...</td>\n",
       "      <td>...</td>\n",
       "      <td>...</td>\n",
       "      <td>...</td>\n",
       "      <td>...</td>\n",
       "      <td>...</td>\n",
       "    </tr>\n",
       "    <tr>\n",
       "      <th>27896</th>\n",
       "      <td>140685</td>\n",
       "      <td>Female</td>\n",
       "      <td>27</td>\n",
       "      <td>Surat</td>\n",
       "      <td>Student</td>\n",
       "      <td>5</td>\n",
       "      <td>0</td>\n",
       "      <td>5.75</td>\n",
       "      <td>5</td>\n",
       "      <td>0</td>\n",
       "      <td>'5-6 hours'</td>\n",
       "      <td>Unhealthy</td>\n",
       "      <td>'Class 12'</td>\n",
       "      <td>Yes</td>\n",
       "      <td>7</td>\n",
       "      <td>1</td>\n",
       "      <td>Yes</td>\n",
       "      <td>0</td>\n",
       "    </tr>\n",
       "    <tr>\n",
       "      <th>27897</th>\n",
       "      <td>140686</td>\n",
       "      <td>Male</td>\n",
       "      <td>27</td>\n",
       "      <td>Ludhiana</td>\n",
       "      <td>Student</td>\n",
       "      <td>2</td>\n",
       "      <td>0</td>\n",
       "      <td>9.40</td>\n",
       "      <td>3</td>\n",
       "      <td>0</td>\n",
       "      <td>'Less than 5 hours'</td>\n",
       "      <td>Healthy</td>\n",
       "      <td>MSc</td>\n",
       "      <td>No</td>\n",
       "      <td>0</td>\n",
       "      <td>3</td>\n",
       "      <td>Yes</td>\n",
       "      <td>0</td>\n",
       "    </tr>\n",
       "    <tr>\n",
       "      <th>27898</th>\n",
       "      <td>140689</td>\n",
       "      <td>Male</td>\n",
       "      <td>31</td>\n",
       "      <td>Faridabad</td>\n",
       "      <td>Student</td>\n",
       "      <td>3</td>\n",
       "      <td>0</td>\n",
       "      <td>6.61</td>\n",
       "      <td>4</td>\n",
       "      <td>0</td>\n",
       "      <td>'5-6 hours'</td>\n",
       "      <td>Unhealthy</td>\n",
       "      <td>MD</td>\n",
       "      <td>No</td>\n",
       "      <td>12</td>\n",
       "      <td>2</td>\n",
       "      <td>No</td>\n",
       "      <td>0</td>\n",
       "    </tr>\n",
       "    <tr>\n",
       "      <th>27899</th>\n",
       "      <td>140690</td>\n",
       "      <td>Female</td>\n",
       "      <td>18</td>\n",
       "      <td>Ludhiana</td>\n",
       "      <td>Student</td>\n",
       "      <td>5</td>\n",
       "      <td>0</td>\n",
       "      <td>6.88</td>\n",
       "      <td>2</td>\n",
       "      <td>0</td>\n",
       "      <td>'Less than 5 hours'</td>\n",
       "      <td>Healthy</td>\n",
       "      <td>'Class 12'</td>\n",
       "      <td>Yes</td>\n",
       "      <td>10</td>\n",
       "      <td>5</td>\n",
       "      <td>No</td>\n",
       "      <td>1</td>\n",
       "    </tr>\n",
       "    <tr>\n",
       "      <th>27900</th>\n",
       "      <td>140699</td>\n",
       "      <td>Male</td>\n",
       "      <td>27</td>\n",
       "      <td>Patna</td>\n",
       "      <td>Student</td>\n",
       "      <td>4</td>\n",
       "      <td>0</td>\n",
       "      <td>9.24</td>\n",
       "      <td>1</td>\n",
       "      <td>0</td>\n",
       "      <td>'Less than 5 hours'</td>\n",
       "      <td>Healthy</td>\n",
       "      <td>BCA</td>\n",
       "      <td>Yes</td>\n",
       "      <td>2</td>\n",
       "      <td>3</td>\n",
       "      <td>Yes</td>\n",
       "      <td>1</td>\n",
       "    </tr>\n",
       "  </tbody>\n",
       "</table>\n",
       "<p>27901 rows × 18 columns</p>\n",
       "</div>"
      ],
      "text/plain": [
       "           id  Gender  Age           City Profession  Academic Pressure  \\\n",
       "0           2    Male   33  Visakhapatnam    Student                  5   \n",
       "1           8  Female   24      Bangalore    Student                  2   \n",
       "2          26    Male   31       Srinagar    Student                  3   \n",
       "3          30  Female   28       Varanasi    Student                  3   \n",
       "4          32  Female   25         Jaipur    Student                  4   \n",
       "...       ...     ...  ...            ...        ...                ...   \n",
       "27896  140685  Female   27          Surat    Student                  5   \n",
       "27897  140686    Male   27       Ludhiana    Student                  2   \n",
       "27898  140689    Male   31      Faridabad    Student                  3   \n",
       "27899  140690  Female   18       Ludhiana    Student                  5   \n",
       "27900  140699    Male   27          Patna    Student                  4   \n",
       "\n",
       "       Work Pressure  CGPA  Study Satisfaction  Job Satisfaction  \\\n",
       "0                  0  8.97                   2                 0   \n",
       "1                  0  5.90                   5                 0   \n",
       "2                  0  7.03                   5                 0   \n",
       "3                  0  5.59                   2                 0   \n",
       "4                  0  8.13                   3                 0   \n",
       "...              ...   ...                 ...               ...   \n",
       "27896              0  5.75                   5                 0   \n",
       "27897              0  9.40                   3                 0   \n",
       "27898              0  6.61                   4                 0   \n",
       "27899              0  6.88                   2                 0   \n",
       "27900              0  9.24                   1                 0   \n",
       "\n",
       "            Sleep Duration Dietary Habits      Degree  \\\n",
       "0              '5-6 hours'        Healthy     B.Pharm   \n",
       "1              '5-6 hours'       Moderate         BSc   \n",
       "2      'Less than 5 hours'        Healthy          BA   \n",
       "3              '7-8 hours'       Moderate         BCA   \n",
       "4              '5-6 hours'       Moderate      M.Tech   \n",
       "...                    ...            ...         ...   \n",
       "27896          '5-6 hours'      Unhealthy  'Class 12'   \n",
       "27897  'Less than 5 hours'        Healthy         MSc   \n",
       "27898          '5-6 hours'      Unhealthy          MD   \n",
       "27899  'Less than 5 hours'        Healthy  'Class 12'   \n",
       "27900  'Less than 5 hours'        Healthy         BCA   \n",
       "\n",
       "      Have you ever had suicidal thoughts ?  Work/Study Hours  \\\n",
       "0                                       Yes                 3   \n",
       "1                                        No                 3   \n",
       "2                                        No                 9   \n",
       "3                                       Yes                 4   \n",
       "4                                       Yes                 1   \n",
       "...                                     ...               ...   \n",
       "27896                                   Yes                 7   \n",
       "27897                                    No                 0   \n",
       "27898                                    No                12   \n",
       "27899                                   Yes                10   \n",
       "27900                                   Yes                 2   \n",
       "\n",
       "      Financial Stress Family History of Mental Illness  Depression  \n",
       "0                    1                               No           1  \n",
       "1                    2                              Yes           0  \n",
       "2                    1                              Yes           0  \n",
       "3                    5                              Yes           1  \n",
       "4                    1                               No           0  \n",
       "...                ...                              ...         ...  \n",
       "27896                1                              Yes           0  \n",
       "27897                3                              Yes           0  \n",
       "27898                2                               No           0  \n",
       "27899                5                               No           1  \n",
       "27900                3                              Yes           1  \n",
       "\n",
       "[27901 rows x 18 columns]"
      ]
     },
     "execution_count": 3,
     "metadata": {},
     "output_type": "execute_result"
    }
   ],
   "source": [
    "df= pd.read_csv('studentdepression.csv')\n",
    "df"
   ]
  },
  {
   "cell_type": "code",
   "execution_count": 4,
   "id": "5219c02c-40f0-4edd-aefe-305f2e827d63",
   "metadata": {},
   "outputs": [
    {
     "data": {
      "text/html": [
       "<div>\n",
       "<style scoped>\n",
       "    .dataframe tbody tr th:only-of-type {\n",
       "        vertical-align: middle;\n",
       "    }\n",
       "\n",
       "    .dataframe tbody tr th {\n",
       "        vertical-align: top;\n",
       "    }\n",
       "\n",
       "    .dataframe thead th {\n",
       "        text-align: right;\n",
       "    }\n",
       "</style>\n",
       "<table border=\"1\" class=\"dataframe\">\n",
       "  <thead>\n",
       "    <tr style=\"text-align: right;\">\n",
       "      <th></th>\n",
       "      <th>id</th>\n",
       "      <th>Gender</th>\n",
       "      <th>Age</th>\n",
       "      <th>City</th>\n",
       "      <th>Profession</th>\n",
       "      <th>Academic Pressure</th>\n",
       "      <th>Work Pressure</th>\n",
       "      <th>CGPA</th>\n",
       "      <th>Study Satisfaction</th>\n",
       "      <th>Job Satisfaction</th>\n",
       "      <th>Sleep Duration</th>\n",
       "      <th>Dietary Habits</th>\n",
       "      <th>Degree</th>\n",
       "      <th>Have you ever had suicidal thoughts ?</th>\n",
       "      <th>Work/Study Hours</th>\n",
       "      <th>Financial Stress</th>\n",
       "      <th>Family History of Mental Illness</th>\n",
       "      <th>Depression</th>\n",
       "    </tr>\n",
       "  </thead>\n",
       "  <tbody>\n",
       "    <tr>\n",
       "      <th>0</th>\n",
       "      <td>2</td>\n",
       "      <td>Male</td>\n",
       "      <td>33</td>\n",
       "      <td>Visakhapatnam</td>\n",
       "      <td>Student</td>\n",
       "      <td>5</td>\n",
       "      <td>0</td>\n",
       "      <td>8.97</td>\n",
       "      <td>2</td>\n",
       "      <td>0</td>\n",
       "      <td>'5-6 hours'</td>\n",
       "      <td>Healthy</td>\n",
       "      <td>B.Pharm</td>\n",
       "      <td>Yes</td>\n",
       "      <td>3</td>\n",
       "      <td>1</td>\n",
       "      <td>No</td>\n",
       "      <td>1</td>\n",
       "    </tr>\n",
       "    <tr>\n",
       "      <th>1</th>\n",
       "      <td>8</td>\n",
       "      <td>Female</td>\n",
       "      <td>24</td>\n",
       "      <td>Bangalore</td>\n",
       "      <td>Student</td>\n",
       "      <td>2</td>\n",
       "      <td>0</td>\n",
       "      <td>5.90</td>\n",
       "      <td>5</td>\n",
       "      <td>0</td>\n",
       "      <td>'5-6 hours'</td>\n",
       "      <td>Moderate</td>\n",
       "      <td>BSc</td>\n",
       "      <td>No</td>\n",
       "      <td>3</td>\n",
       "      <td>2</td>\n",
       "      <td>Yes</td>\n",
       "      <td>0</td>\n",
       "    </tr>\n",
       "    <tr>\n",
       "      <th>2</th>\n",
       "      <td>26</td>\n",
       "      <td>Male</td>\n",
       "      <td>31</td>\n",
       "      <td>Srinagar</td>\n",
       "      <td>Student</td>\n",
       "      <td>3</td>\n",
       "      <td>0</td>\n",
       "      <td>7.03</td>\n",
       "      <td>5</td>\n",
       "      <td>0</td>\n",
       "      <td>'Less than 5 hours'</td>\n",
       "      <td>Healthy</td>\n",
       "      <td>BA</td>\n",
       "      <td>No</td>\n",
       "      <td>9</td>\n",
       "      <td>1</td>\n",
       "      <td>Yes</td>\n",
       "      <td>0</td>\n",
       "    </tr>\n",
       "    <tr>\n",
       "      <th>3</th>\n",
       "      <td>30</td>\n",
       "      <td>Female</td>\n",
       "      <td>28</td>\n",
       "      <td>Varanasi</td>\n",
       "      <td>Student</td>\n",
       "      <td>3</td>\n",
       "      <td>0</td>\n",
       "      <td>5.59</td>\n",
       "      <td>2</td>\n",
       "      <td>0</td>\n",
       "      <td>'7-8 hours'</td>\n",
       "      <td>Moderate</td>\n",
       "      <td>BCA</td>\n",
       "      <td>Yes</td>\n",
       "      <td>4</td>\n",
       "      <td>5</td>\n",
       "      <td>Yes</td>\n",
       "      <td>1</td>\n",
       "    </tr>\n",
       "    <tr>\n",
       "      <th>4</th>\n",
       "      <td>32</td>\n",
       "      <td>Female</td>\n",
       "      <td>25</td>\n",
       "      <td>Jaipur</td>\n",
       "      <td>Student</td>\n",
       "      <td>4</td>\n",
       "      <td>0</td>\n",
       "      <td>8.13</td>\n",
       "      <td>3</td>\n",
       "      <td>0</td>\n",
       "      <td>'5-6 hours'</td>\n",
       "      <td>Moderate</td>\n",
       "      <td>M.Tech</td>\n",
       "      <td>Yes</td>\n",
       "      <td>1</td>\n",
       "      <td>1</td>\n",
       "      <td>No</td>\n",
       "      <td>0</td>\n",
       "    </tr>\n",
       "  </tbody>\n",
       "</table>\n",
       "</div>"
      ],
      "text/plain": [
       "   id  Gender  Age           City Profession  Academic Pressure  \\\n",
       "0   2    Male   33  Visakhapatnam    Student                  5   \n",
       "1   8  Female   24      Bangalore    Student                  2   \n",
       "2  26    Male   31       Srinagar    Student                  3   \n",
       "3  30  Female   28       Varanasi    Student                  3   \n",
       "4  32  Female   25         Jaipur    Student                  4   \n",
       "\n",
       "   Work Pressure  CGPA  Study Satisfaction  Job Satisfaction  \\\n",
       "0              0  8.97                   2                 0   \n",
       "1              0  5.90                   5                 0   \n",
       "2              0  7.03                   5                 0   \n",
       "3              0  5.59                   2                 0   \n",
       "4              0  8.13                   3                 0   \n",
       "\n",
       "        Sleep Duration Dietary Habits   Degree  \\\n",
       "0          '5-6 hours'        Healthy  B.Pharm   \n",
       "1          '5-6 hours'       Moderate      BSc   \n",
       "2  'Less than 5 hours'        Healthy       BA   \n",
       "3          '7-8 hours'       Moderate      BCA   \n",
       "4          '5-6 hours'       Moderate   M.Tech   \n",
       "\n",
       "  Have you ever had suicidal thoughts ?  Work/Study Hours Financial Stress  \\\n",
       "0                                   Yes                 3                1   \n",
       "1                                    No                 3                2   \n",
       "2                                    No                 9                1   \n",
       "3                                   Yes                 4                5   \n",
       "4                                   Yes                 1                1   \n",
       "\n",
       "  Family History of Mental Illness  Depression  \n",
       "0                               No           1  \n",
       "1                              Yes           0  \n",
       "2                              Yes           0  \n",
       "3                              Yes           1  \n",
       "4                               No           0  "
      ]
     },
     "execution_count": 4,
     "metadata": {},
     "output_type": "execute_result"
    }
   ],
   "source": [
    "## data understanding\n",
    "df.head()"
   ]
  },
  {
   "cell_type": "code",
   "execution_count": 5,
   "id": "72f2b9e5-3927-4fc0-9ec9-d1a6c4517e5a",
   "metadata": {},
   "outputs": [
    {
     "data": {
      "text/html": [
       "<div>\n",
       "<style scoped>\n",
       "    .dataframe tbody tr th:only-of-type {\n",
       "        vertical-align: middle;\n",
       "    }\n",
       "\n",
       "    .dataframe tbody tr th {\n",
       "        vertical-align: top;\n",
       "    }\n",
       "\n",
       "    .dataframe thead th {\n",
       "        text-align: right;\n",
       "    }\n",
       "</style>\n",
       "<table border=\"1\" class=\"dataframe\">\n",
       "  <thead>\n",
       "    <tr style=\"text-align: right;\">\n",
       "      <th></th>\n",
       "      <th>id</th>\n",
       "      <th>Gender</th>\n",
       "      <th>Age</th>\n",
       "      <th>City</th>\n",
       "      <th>Profession</th>\n",
       "      <th>Academic Pressure</th>\n",
       "      <th>Work Pressure</th>\n",
       "      <th>CGPA</th>\n",
       "      <th>Study Satisfaction</th>\n",
       "      <th>Job Satisfaction</th>\n",
       "      <th>Sleep Duration</th>\n",
       "      <th>Dietary Habits</th>\n",
       "      <th>Degree</th>\n",
       "      <th>Have you ever had suicidal thoughts ?</th>\n",
       "      <th>Work/Study Hours</th>\n",
       "      <th>Financial Stress</th>\n",
       "      <th>Family History of Mental Illness</th>\n",
       "      <th>Depression</th>\n",
       "    </tr>\n",
       "  </thead>\n",
       "  <tbody>\n",
       "    <tr>\n",
       "      <th>27896</th>\n",
       "      <td>140685</td>\n",
       "      <td>Female</td>\n",
       "      <td>27</td>\n",
       "      <td>Surat</td>\n",
       "      <td>Student</td>\n",
       "      <td>5</td>\n",
       "      <td>0</td>\n",
       "      <td>5.75</td>\n",
       "      <td>5</td>\n",
       "      <td>0</td>\n",
       "      <td>'5-6 hours'</td>\n",
       "      <td>Unhealthy</td>\n",
       "      <td>'Class 12'</td>\n",
       "      <td>Yes</td>\n",
       "      <td>7</td>\n",
       "      <td>1</td>\n",
       "      <td>Yes</td>\n",
       "      <td>0</td>\n",
       "    </tr>\n",
       "    <tr>\n",
       "      <th>27897</th>\n",
       "      <td>140686</td>\n",
       "      <td>Male</td>\n",
       "      <td>27</td>\n",
       "      <td>Ludhiana</td>\n",
       "      <td>Student</td>\n",
       "      <td>2</td>\n",
       "      <td>0</td>\n",
       "      <td>9.40</td>\n",
       "      <td>3</td>\n",
       "      <td>0</td>\n",
       "      <td>'Less than 5 hours'</td>\n",
       "      <td>Healthy</td>\n",
       "      <td>MSc</td>\n",
       "      <td>No</td>\n",
       "      <td>0</td>\n",
       "      <td>3</td>\n",
       "      <td>Yes</td>\n",
       "      <td>0</td>\n",
       "    </tr>\n",
       "    <tr>\n",
       "      <th>27898</th>\n",
       "      <td>140689</td>\n",
       "      <td>Male</td>\n",
       "      <td>31</td>\n",
       "      <td>Faridabad</td>\n",
       "      <td>Student</td>\n",
       "      <td>3</td>\n",
       "      <td>0</td>\n",
       "      <td>6.61</td>\n",
       "      <td>4</td>\n",
       "      <td>0</td>\n",
       "      <td>'5-6 hours'</td>\n",
       "      <td>Unhealthy</td>\n",
       "      <td>MD</td>\n",
       "      <td>No</td>\n",
       "      <td>12</td>\n",
       "      <td>2</td>\n",
       "      <td>No</td>\n",
       "      <td>0</td>\n",
       "    </tr>\n",
       "    <tr>\n",
       "      <th>27899</th>\n",
       "      <td>140690</td>\n",
       "      <td>Female</td>\n",
       "      <td>18</td>\n",
       "      <td>Ludhiana</td>\n",
       "      <td>Student</td>\n",
       "      <td>5</td>\n",
       "      <td>0</td>\n",
       "      <td>6.88</td>\n",
       "      <td>2</td>\n",
       "      <td>0</td>\n",
       "      <td>'Less than 5 hours'</td>\n",
       "      <td>Healthy</td>\n",
       "      <td>'Class 12'</td>\n",
       "      <td>Yes</td>\n",
       "      <td>10</td>\n",
       "      <td>5</td>\n",
       "      <td>No</td>\n",
       "      <td>1</td>\n",
       "    </tr>\n",
       "    <tr>\n",
       "      <th>27900</th>\n",
       "      <td>140699</td>\n",
       "      <td>Male</td>\n",
       "      <td>27</td>\n",
       "      <td>Patna</td>\n",
       "      <td>Student</td>\n",
       "      <td>4</td>\n",
       "      <td>0</td>\n",
       "      <td>9.24</td>\n",
       "      <td>1</td>\n",
       "      <td>0</td>\n",
       "      <td>'Less than 5 hours'</td>\n",
       "      <td>Healthy</td>\n",
       "      <td>BCA</td>\n",
       "      <td>Yes</td>\n",
       "      <td>2</td>\n",
       "      <td>3</td>\n",
       "      <td>Yes</td>\n",
       "      <td>1</td>\n",
       "    </tr>\n",
       "  </tbody>\n",
       "</table>\n",
       "</div>"
      ],
      "text/plain": [
       "           id  Gender  Age       City Profession  Academic Pressure  \\\n",
       "27896  140685  Female   27      Surat    Student                  5   \n",
       "27897  140686    Male   27   Ludhiana    Student                  2   \n",
       "27898  140689    Male   31  Faridabad    Student                  3   \n",
       "27899  140690  Female   18   Ludhiana    Student                  5   \n",
       "27900  140699    Male   27      Patna    Student                  4   \n",
       "\n",
       "       Work Pressure  CGPA  Study Satisfaction  Job Satisfaction  \\\n",
       "27896              0  5.75                   5                 0   \n",
       "27897              0  9.40                   3                 0   \n",
       "27898              0  6.61                   4                 0   \n",
       "27899              0  6.88                   2                 0   \n",
       "27900              0  9.24                   1                 0   \n",
       "\n",
       "            Sleep Duration Dietary Habits      Degree  \\\n",
       "27896          '5-6 hours'      Unhealthy  'Class 12'   \n",
       "27897  'Less than 5 hours'        Healthy         MSc   \n",
       "27898          '5-6 hours'      Unhealthy          MD   \n",
       "27899  'Less than 5 hours'        Healthy  'Class 12'   \n",
       "27900  'Less than 5 hours'        Healthy         BCA   \n",
       "\n",
       "      Have you ever had suicidal thoughts ?  Work/Study Hours  \\\n",
       "27896                                   Yes                 7   \n",
       "27897                                    No                 0   \n",
       "27898                                    No                12   \n",
       "27899                                   Yes                10   \n",
       "27900                                   Yes                 2   \n",
       "\n",
       "      Financial Stress Family History of Mental Illness  Depression  \n",
       "27896                1                              Yes           0  \n",
       "27897                3                              Yes           0  \n",
       "27898                2                               No           0  \n",
       "27899                5                               No           1  \n",
       "27900                3                              Yes           1  "
      ]
     },
     "execution_count": 5,
     "metadata": {},
     "output_type": "execute_result"
    }
   ],
   "source": [
    "df.tail()"
   ]
  },
  {
   "cell_type": "code",
   "execution_count": 6,
   "id": "23955e15-e944-4c45-87fc-3a67e09c8878",
   "metadata": {},
   "outputs": [
    {
     "data": {
      "text/plain": [
       "(27901, 18)"
      ]
     },
     "execution_count": 6,
     "metadata": {},
     "output_type": "execute_result"
    }
   ],
   "source": [
    "df.shape"
   ]
  },
  {
   "cell_type": "code",
   "execution_count": 7,
   "id": "7515c1b4-6f5a-420a-b086-c5fecf164367",
   "metadata": {},
   "outputs": [
    {
     "name": "stdout",
     "output_type": "stream",
     "text": [
      "<class 'pandas.core.frame.DataFrame'>\n",
      "RangeIndex: 27901 entries, 0 to 27900\n",
      "Data columns (total 18 columns):\n",
      " #   Column                                 Non-Null Count  Dtype  \n",
      "---  ------                                 --------------  -----  \n",
      " 0   id                                     27901 non-null  int64  \n",
      " 1   Gender                                 27901 non-null  object \n",
      " 2   Age                                    27901 non-null  int64  \n",
      " 3   City                                   27901 non-null  object \n",
      " 4   Profession                             27901 non-null  object \n",
      " 5   Academic Pressure                      27901 non-null  int64  \n",
      " 6   Work Pressure                          27901 non-null  int64  \n",
      " 7   CGPA                                   27901 non-null  float64\n",
      " 8   Study Satisfaction                     27901 non-null  int64  \n",
      " 9   Job Satisfaction                       27901 non-null  int64  \n",
      " 10  Sleep Duration                         27901 non-null  object \n",
      " 11  Dietary Habits                         27901 non-null  object \n",
      " 12  Degree                                 27901 non-null  object \n",
      " 13  Have you ever had suicidal thoughts ?  27901 non-null  object \n",
      " 14  Work/Study Hours                       27901 non-null  int64  \n",
      " 15  Financial Stress                       27901 non-null  object \n",
      " 16  Family History of Mental Illness       27901 non-null  object \n",
      " 17  Depression                             27901 non-null  int64  \n",
      "dtypes: float64(1), int64(8), object(9)\n",
      "memory usage: 3.8+ MB\n"
     ]
    }
   ],
   "source": [
    "df.info() "
   ]
  },
  {
   "cell_type": "code",
   "execution_count": 8,
   "id": "72275c1a-3944-4b18-8706-ad8ac5be6dc9",
   "metadata": {},
   "outputs": [
    {
     "data": {
      "text/plain": [
       "np.int64(0)"
      ]
     },
     "execution_count": 8,
     "metadata": {},
     "output_type": "execute_result"
    }
   ],
   "source": [
    "df.duplicated().sum()"
   ]
  },
  {
   "cell_type": "code",
   "execution_count": 9,
   "id": "1924d189-03c4-4bb1-9a82-a023aae14fb1",
   "metadata": {},
   "outputs": [
    {
     "data": {
      "text/plain": [
       "id                                       0\n",
       "Gender                                   0\n",
       "Age                                      0\n",
       "City                                     0\n",
       "Profession                               0\n",
       "Academic Pressure                        0\n",
       "Work Pressure                            0\n",
       "CGPA                                     0\n",
       "Study Satisfaction                       0\n",
       "Job Satisfaction                         0\n",
       "Sleep Duration                           0\n",
       "Dietary Habits                           0\n",
       "Degree                                   0\n",
       "Have you ever had suicidal thoughts ?    0\n",
       "Work/Study Hours                         0\n",
       "Financial Stress                         0\n",
       "Family History of Mental Illness         0\n",
       "Depression                               0\n",
       "dtype: int64"
      ]
     },
     "execution_count": 9,
     "metadata": {},
     "output_type": "execute_result"
    }
   ],
   "source": [
    "df.isnull().sum()"
   ]
  },
  {
   "cell_type": "code",
   "execution_count": 10,
   "id": "f6768b5b-fb5d-4f4a-978b-fd355b143f90",
   "metadata": {},
   "outputs": [
    {
     "data": {
      "text/plain": [
       "id                                         int64\n",
       "Gender                                    object\n",
       "Age                                        int64\n",
       "City                                      object\n",
       "Profession                                object\n",
       "Academic Pressure                          int64\n",
       "Work Pressure                              int64\n",
       "CGPA                                     float64\n",
       "Study Satisfaction                         int64\n",
       "Job Satisfaction                           int64\n",
       "Sleep Duration                            object\n",
       "Dietary Habits                            object\n",
       "Degree                                    object\n",
       "Have you ever had suicidal thoughts ?     object\n",
       "Work/Study Hours                           int64\n",
       "Financial Stress                          object\n",
       "Family History of Mental Illness          object\n",
       "Depression                                 int64\n",
       "dtype: object"
      ]
     },
     "execution_count": 10,
     "metadata": {},
     "output_type": "execute_result"
    }
   ],
   "source": [
    "df.dtypes"
   ]
  },
  {
   "cell_type": "code",
   "execution_count": 11,
   "id": "216766d6-8c5b-47d3-b5e3-d0272a5626f4",
   "metadata": {},
   "outputs": [
    {
     "data": {
      "text/plain": [
       "array(['Student', \"'Civil Engineer'\", 'Architect', \"'UX/UI Designer'\",\n",
       "       \"'Digital Marketer'\", \"'Content Writer'\",\n",
       "       \"'Educational Consultant'\", 'Teacher', 'Manager', 'Chef', 'Doctor',\n",
       "       'Lawyer', 'Entrepreneur', 'Pharmacist'], dtype=object)"
      ]
     },
     "execution_count": 11,
     "metadata": {},
     "output_type": "execute_result"
    }
   ],
   "source": [
    "df['Profession'].unique()"
   ]
  },
  {
   "cell_type": "code",
   "execution_count": 12,
   "id": "ac33648a-447b-4370-a8d9-6238a50a5e60",
   "metadata": {},
   "outputs": [
    {
     "data": {
      "text/plain": [
       "0        Student\n",
       "1        Student\n",
       "2        Student\n",
       "3        Student\n",
       "4        Student\n",
       "          ...   \n",
       "27896    Student\n",
       "27897    Student\n",
       "27898    Student\n",
       "27899    Student\n",
       "27900    Student\n",
       "Name: Profession, Length: 27901, dtype: object"
      ]
     },
     "execution_count": 12,
     "metadata": {},
     "output_type": "execute_result"
    }
   ],
   "source": [
    "df.Profession"
   ]
  },
  {
   "cell_type": "code",
   "execution_count": 13,
   "id": "1a3ba003-c41e-4a5d-a393-7f82fbff43c5",
   "metadata": {},
   "outputs": [
    {
     "data": {
      "text/html": [
       "<div>\n",
       "<style scoped>\n",
       "    .dataframe tbody tr th:only-of-type {\n",
       "        vertical-align: middle;\n",
       "    }\n",
       "\n",
       "    .dataframe tbody tr th {\n",
       "        vertical-align: top;\n",
       "    }\n",
       "\n",
       "    .dataframe thead th {\n",
       "        text-align: right;\n",
       "    }\n",
       "</style>\n",
       "<table border=\"1\" class=\"dataframe\">\n",
       "  <thead>\n",
       "    <tr style=\"text-align: right;\">\n",
       "      <th></th>\n",
       "      <th>id</th>\n",
       "      <th>Age</th>\n",
       "      <th>Academic Pressure</th>\n",
       "      <th>Work Pressure</th>\n",
       "      <th>CGPA</th>\n",
       "      <th>Study Satisfaction</th>\n",
       "      <th>Job Satisfaction</th>\n",
       "      <th>Work/Study Hours</th>\n",
       "      <th>Depression</th>\n",
       "    </tr>\n",
       "  </thead>\n",
       "  <tbody>\n",
       "    <tr>\n",
       "      <th>count</th>\n",
       "      <td>27901.000000</td>\n",
       "      <td>27901.000000</td>\n",
       "      <td>27901.000000</td>\n",
       "      <td>27901.000000</td>\n",
       "      <td>27901.000000</td>\n",
       "      <td>27901.000000</td>\n",
       "      <td>27901.000000</td>\n",
       "      <td>27901.000000</td>\n",
       "      <td>27901.000000</td>\n",
       "    </tr>\n",
       "    <tr>\n",
       "      <th>mean</th>\n",
       "      <td>70442.149421</td>\n",
       "      <td>25.822300</td>\n",
       "      <td>3.141214</td>\n",
       "      <td>0.000430</td>\n",
       "      <td>7.656104</td>\n",
       "      <td>2.943837</td>\n",
       "      <td>0.000681</td>\n",
       "      <td>7.156984</td>\n",
       "      <td>0.585499</td>\n",
       "    </tr>\n",
       "    <tr>\n",
       "      <th>std</th>\n",
       "      <td>40641.175216</td>\n",
       "      <td>4.905687</td>\n",
       "      <td>1.381465</td>\n",
       "      <td>0.043992</td>\n",
       "      <td>1.470707</td>\n",
       "      <td>1.361148</td>\n",
       "      <td>0.044394</td>\n",
       "      <td>3.707642</td>\n",
       "      <td>0.492645</td>\n",
       "    </tr>\n",
       "    <tr>\n",
       "      <th>min</th>\n",
       "      <td>2.000000</td>\n",
       "      <td>18.000000</td>\n",
       "      <td>0.000000</td>\n",
       "      <td>0.000000</td>\n",
       "      <td>0.000000</td>\n",
       "      <td>0.000000</td>\n",
       "      <td>0.000000</td>\n",
       "      <td>0.000000</td>\n",
       "      <td>0.000000</td>\n",
       "    </tr>\n",
       "    <tr>\n",
       "      <th>25%</th>\n",
       "      <td>35039.000000</td>\n",
       "      <td>21.000000</td>\n",
       "      <td>2.000000</td>\n",
       "      <td>0.000000</td>\n",
       "      <td>6.290000</td>\n",
       "      <td>2.000000</td>\n",
       "      <td>0.000000</td>\n",
       "      <td>4.000000</td>\n",
       "      <td>0.000000</td>\n",
       "    </tr>\n",
       "    <tr>\n",
       "      <th>50%</th>\n",
       "      <td>70684.000000</td>\n",
       "      <td>25.000000</td>\n",
       "      <td>3.000000</td>\n",
       "      <td>0.000000</td>\n",
       "      <td>7.770000</td>\n",
       "      <td>3.000000</td>\n",
       "      <td>0.000000</td>\n",
       "      <td>8.000000</td>\n",
       "      <td>1.000000</td>\n",
       "    </tr>\n",
       "    <tr>\n",
       "      <th>75%</th>\n",
       "      <td>105818.000000</td>\n",
       "      <td>30.000000</td>\n",
       "      <td>4.000000</td>\n",
       "      <td>0.000000</td>\n",
       "      <td>8.920000</td>\n",
       "      <td>4.000000</td>\n",
       "      <td>0.000000</td>\n",
       "      <td>10.000000</td>\n",
       "      <td>1.000000</td>\n",
       "    </tr>\n",
       "    <tr>\n",
       "      <th>max</th>\n",
       "      <td>140699.000000</td>\n",
       "      <td>59.000000</td>\n",
       "      <td>5.000000</td>\n",
       "      <td>5.000000</td>\n",
       "      <td>10.000000</td>\n",
       "      <td>5.000000</td>\n",
       "      <td>4.000000</td>\n",
       "      <td>12.000000</td>\n",
       "      <td>1.000000</td>\n",
       "    </tr>\n",
       "  </tbody>\n",
       "</table>\n",
       "</div>"
      ],
      "text/plain": [
       "                  id           Age  Academic Pressure  Work Pressure  \\\n",
       "count   27901.000000  27901.000000       27901.000000   27901.000000   \n",
       "mean    70442.149421     25.822300           3.141214       0.000430   \n",
       "std     40641.175216      4.905687           1.381465       0.043992   \n",
       "min         2.000000     18.000000           0.000000       0.000000   \n",
       "25%     35039.000000     21.000000           2.000000       0.000000   \n",
       "50%     70684.000000     25.000000           3.000000       0.000000   \n",
       "75%    105818.000000     30.000000           4.000000       0.000000   \n",
       "max    140699.000000     59.000000           5.000000       5.000000   \n",
       "\n",
       "               CGPA  Study Satisfaction  Job Satisfaction  Work/Study Hours  \\\n",
       "count  27901.000000        27901.000000      27901.000000      27901.000000   \n",
       "mean       7.656104            2.943837          0.000681          7.156984   \n",
       "std        1.470707            1.361148          0.044394          3.707642   \n",
       "min        0.000000            0.000000          0.000000          0.000000   \n",
       "25%        6.290000            2.000000          0.000000          4.000000   \n",
       "50%        7.770000            3.000000          0.000000          8.000000   \n",
       "75%        8.920000            4.000000          0.000000         10.000000   \n",
       "max       10.000000            5.000000          4.000000         12.000000   \n",
       "\n",
       "         Depression  \n",
       "count  27901.000000  \n",
       "mean       0.585499  \n",
       "std        0.492645  \n",
       "min        0.000000  \n",
       "25%        0.000000  \n",
       "50%        1.000000  \n",
       "75%        1.000000  \n",
       "max        1.000000  "
      ]
     },
     "execution_count": 13,
     "metadata": {},
     "output_type": "execute_result"
    }
   ],
   "source": [
    "df.describe()"
   ]
  },
  {
   "cell_type": "code",
   "execution_count": 14,
   "id": "27c51ba8-9f18-442c-a1c7-e04ac10d0e7a",
   "metadata": {
    "scrolled": true
   },
   "outputs": [
    {
     "data": {
      "text/html": [
       "<div>\n",
       "<style scoped>\n",
       "    .dataframe tbody tr th:only-of-type {\n",
       "        vertical-align: middle;\n",
       "    }\n",
       "\n",
       "    .dataframe tbody tr th {\n",
       "        vertical-align: top;\n",
       "    }\n",
       "\n",
       "    .dataframe thead th {\n",
       "        text-align: right;\n",
       "    }\n",
       "</style>\n",
       "<table border=\"1\" class=\"dataframe\">\n",
       "  <thead>\n",
       "    <tr style=\"text-align: right;\">\n",
       "      <th></th>\n",
       "      <th>Gender</th>\n",
       "      <th>City</th>\n",
       "      <th>Profession</th>\n",
       "      <th>Sleep Duration</th>\n",
       "      <th>Dietary Habits</th>\n",
       "      <th>Degree</th>\n",
       "      <th>Have you ever had suicidal thoughts ?</th>\n",
       "      <th>Financial Stress</th>\n",
       "      <th>Family History of Mental Illness</th>\n",
       "    </tr>\n",
       "  </thead>\n",
       "  <tbody>\n",
       "    <tr>\n",
       "      <th>count</th>\n",
       "      <td>27901</td>\n",
       "      <td>27901</td>\n",
       "      <td>27901</td>\n",
       "      <td>27901</td>\n",
       "      <td>27901</td>\n",
       "      <td>27901</td>\n",
       "      <td>27901</td>\n",
       "      <td>27901</td>\n",
       "      <td>27901</td>\n",
       "    </tr>\n",
       "    <tr>\n",
       "      <th>unique</th>\n",
       "      <td>2</td>\n",
       "      <td>52</td>\n",
       "      <td>14</td>\n",
       "      <td>5</td>\n",
       "      <td>4</td>\n",
       "      <td>28</td>\n",
       "      <td>2</td>\n",
       "      <td>6</td>\n",
       "      <td>2</td>\n",
       "    </tr>\n",
       "    <tr>\n",
       "      <th>top</th>\n",
       "      <td>Male</td>\n",
       "      <td>Kalyan</td>\n",
       "      <td>Student</td>\n",
       "      <td>'Less than 5 hours'</td>\n",
       "      <td>Unhealthy</td>\n",
       "      <td>'Class 12'</td>\n",
       "      <td>Yes</td>\n",
       "      <td>5</td>\n",
       "      <td>No</td>\n",
       "    </tr>\n",
       "    <tr>\n",
       "      <th>freq</th>\n",
       "      <td>15547</td>\n",
       "      <td>1570</td>\n",
       "      <td>27870</td>\n",
       "      <td>8310</td>\n",
       "      <td>10317</td>\n",
       "      <td>6080</td>\n",
       "      <td>17656</td>\n",
       "      <td>6715</td>\n",
       "      <td>14398</td>\n",
       "    </tr>\n",
       "  </tbody>\n",
       "</table>\n",
       "</div>"
      ],
      "text/plain": [
       "       Gender    City Profession       Sleep Duration Dietary Habits  \\\n",
       "count   27901   27901      27901                27901          27901   \n",
       "unique      2      52         14                    5              4   \n",
       "top      Male  Kalyan    Student  'Less than 5 hours'      Unhealthy   \n",
       "freq    15547    1570      27870                 8310          10317   \n",
       "\n",
       "            Degree Have you ever had suicidal thoughts ? Financial Stress  \\\n",
       "count        27901                                 27901            27901   \n",
       "unique          28                                     2                6   \n",
       "top     'Class 12'                                   Yes                5   \n",
       "freq          6080                                 17656             6715   \n",
       "\n",
       "       Family History of Mental Illness  \n",
       "count                             27901  \n",
       "unique                                2  \n",
       "top                                  No  \n",
       "freq                              14398  "
      ]
     },
     "execution_count": 14,
     "metadata": {},
     "output_type": "execute_result"
    }
   ],
   "source": [
    "df.describe(include='object')"
   ]
  },
  {
   "cell_type": "code",
   "execution_count": 16,
   "id": "6efc0965-b6d2-4e7f-b69f-a37cfa2b676a",
   "metadata": {},
   "outputs": [
    {
     "data": {
      "text/plain": [
       "Gender\n",
       "Male      15547\n",
       "Female    12354\n",
       "Name: count, dtype: int64"
      ]
     },
     "execution_count": 16,
     "metadata": {},
     "output_type": "execute_result"
    }
   ],
   "source": [
    "df[\"Gender\"].value_counts()"
   ]
  },
  {
   "cell_type": "code",
   "execution_count": 17,
   "id": "9523ef28-16f4-406d-9c96-cb7565356089",
   "metadata": {},
   "outputs": [
    {
     "data": {
      "text/plain": [
       "Depression\n",
       "1    16336\n",
       "0    11565\n",
       "Name: count, dtype: int64"
      ]
     },
     "execution_count": 17,
     "metadata": {},
     "output_type": "execute_result"
    }
   ],
   "source": [
    "df[\"Depression\"].value_counts()"
   ]
  },
  {
   "cell_type": "code",
   "execution_count": 18,
   "id": "3e5fe90e-8891-4d14-bd5c-f5fe35fe7f6d",
   "metadata": {},
   "outputs": [
    {
     "data": {
      "text/plain": [
       "Family History of Mental Illness\n",
       "No     14398\n",
       "Yes    13503\n",
       "Name: count, dtype: int64"
      ]
     },
     "execution_count": 18,
     "metadata": {},
     "output_type": "execute_result"
    }
   ],
   "source": [
    "df[\"Family History of Mental Illness\"].value_counts()"
   ]
  },
  {
   "cell_type": "code",
   "execution_count": 61,
   "id": "592c4100-8d54-4eba-b211-0b0a3f6a2989",
   "metadata": {},
   "outputs": [
    {
     "data": {
      "text/plain": [
       "Depression  Family History of Mental Illness\n",
       "1           Yes                                 8273\n",
       "            No                                  8063\n",
       "0           No                                  6335\n",
       "            Yes                                 5230\n",
       "Name: id, dtype: int64"
      ]
     },
     "execution_count": 61,
     "metadata": {},
     "output_type": "execute_result"
    }
   ],
   "source": [
    "ds=df.groupby([\"Depression\", \"Family History of Mental Illness\"])[\"id\"].nunique().sort_values(ascending=False)\n",
    "## The number of students who have depression with a family history is more than others.\n",
    "ds"
   ]
  },
  {
   "cell_type": "code",
   "execution_count": 22,
   "id": "5e88b2ec-9af6-43c8-8dbe-38918ecc62bc",
   "metadata": {},
   "outputs": [
    {
     "data": {
      "text/plain": [
       "Depression  Academic Pressure\n",
       "1           5                    5420\n",
       "            3                    4489\n",
       "            4                    3925\n",
       "0           1                    3869\n",
       "            3                    2973\n",
       "            2                    2612\n",
       "1           2                    1566\n",
       "0           4                    1230\n",
       "1           1                     932\n",
       "0           5                     876\n",
       "            0                       5\n",
       "1           0                       4\n",
       "Name: id, dtype: int64"
      ]
     },
     "execution_count": 22,
     "metadata": {},
     "output_type": "execute_result"
    }
   ],
   "source": [
    "df.groupby([\"Depression\", \"Academic Pressure\"])[\"id\"].nunique().sort_values(ascending=False)\n",
    "## The number of students who have depression with academic pressure is more than others. "
   ]
  },
  {
   "cell_type": "code",
   "execution_count": 23,
   "id": "d78cdae9-87e5-48bf-9801-ffb198ea4957",
   "metadata": {},
   "outputs": [
    {
     "data": {
      "text/plain": [
       "Depression  Work Pressure\n",
       "1           0                16335\n",
       "0           0                11563\n",
       "            2                    1\n",
       "            5                    1\n",
       "1           5                    1\n",
       "Name: id, dtype: int64"
      ]
     },
     "execution_count": 23,
     "metadata": {},
     "output_type": "execute_result"
    }
   ],
   "source": [
    "df.groupby([\"Depression\", \"Work Pressure\"])[\"id\"].nunique().sort_values(ascending=False)\n",
    "## The number of students who have depression with zero work pressure is more than others. "
   ]
  },
  {
   "cell_type": "code",
   "execution_count": 25,
   "id": "1abb9c33-c0cb-47b5-b130-baee2b45d973",
   "metadata": {},
   "outputs": [
    {
     "data": {
      "text/plain": [
       "array([0, 5, 2])"
      ]
     },
     "execution_count": 25,
     "metadata": {},
     "output_type": "execute_result"
    }
   ],
   "source": [
    "df['Work Pressure'].unique()"
   ]
  },
  {
   "cell_type": "code",
   "execution_count": 26,
   "id": "2e25c660-a9f9-438d-92e1-00c4d4241d3d",
   "metadata": {},
   "outputs": [
    {
     "data": {
      "text/plain": [
       "Depression  Profession              \n",
       "1           Student                     16308\n",
       "0           Student                     11562\n",
       "1           Architect                       7\n",
       "            Teacher                         5\n",
       "            Pharmacist                      2\n",
       "            Chef                            2\n",
       "            Doctor                          2\n",
       "            'Content Writer'                2\n",
       "            'Digital Marketer'              2\n",
       "0           'Digital Marketer'              1\n",
       "            Architect                       1\n",
       "1           'Educational Consultant'        1\n",
       "0           Teacher                         1\n",
       "1           'Civil Engineer'                1\n",
       "            'UX/UI Designer'                1\n",
       "            Entrepreneur                    1\n",
       "            Lawyer                          1\n",
       "            Manager                         1\n",
       "Name: id, dtype: int64"
      ]
     },
     "execution_count": 26,
     "metadata": {},
     "output_type": "execute_result"
    }
   ],
   "source": [
    "df.groupby([\"Depression\", \"Profession\"])[\"id\"].nunique().sort_values(ascending=False)\n",
    "## The number of students who have depression is more than others. "
   ]
  },
  {
   "cell_type": "code",
   "execution_count": 27,
   "id": "a71d18ac-d150-4d3e-94df-34ae015f2d91",
   "metadata": {},
   "outputs": [
    {
     "data": {
      "text/plain": [
       "Depression  CGPA\n",
       "1           8.04    533\n",
       "0           8.04    288\n",
       "1           9.96    274\n",
       "            8.95    232\n",
       "            5.74    222\n",
       "                   ... \n",
       "0           6.98      1\n",
       "            6.77      1\n",
       "            6.06      1\n",
       "            6.09      1\n",
       "            5.78      1\n",
       "Name: id, Length: 652, dtype: int64"
      ]
     },
     "execution_count": 27,
     "metadata": {},
     "output_type": "execute_result"
    }
   ],
   "source": [
    "df.groupby([\"Depression\", \"CGPA\"])[\"id\"].nunique().sort_values(ascending=False)\n",
    "## The number of students who have depression with aprx high CGPA is more than others. "
   ]
  },
  {
   "cell_type": "code",
   "execution_count": 30,
   "id": "5d0835f9-89fb-46bc-9c41-90cd885e3e84",
   "metadata": {},
   "outputs": [
    {
     "data": {
      "text/plain": [
       "Depression  Study Satisfaction\n",
       "1           1                     3857\n",
       "            2                     3768\n",
       "            3                     3353\n",
       "            4                     3264\n",
       "0           4                     3095\n",
       "            3                     2468\n",
       "            5                     2334\n",
       "1           5                     2088\n",
       "0           2                     2070\n",
       "            1                     1594\n",
       "1           0                        6\n",
       "0           0                        4\n",
       "Name: id, dtype: int64"
      ]
     },
     "execution_count": 30,
     "metadata": {},
     "output_type": "execute_result"
    }
   ],
   "source": [
    "df.groupby([\"Depression\", \"Study Satisfaction\"])[\"id\"].nunique().sort_values(ascending=False)\n",
    "## The number of students who study satisfaction =1,2 \"not very satisfied\" (it varies between them) have depression more than others "
   ]
  },
  {
   "cell_type": "code",
   "execution_count": 32,
   "id": "448b804e-7c53-4b88-acc1-37a8914447cd",
   "metadata": {},
   "outputs": [
    {
     "data": {
      "text/plain": [
       "Depression  Job Satisfaction\n",
       "1           0                   16332\n",
       "0           0                   11561\n",
       "1           2                       2\n",
       "0           1                       1\n",
       "            2                       1\n",
       "            4                       1\n",
       "            3                       1\n",
       "1           1                       1\n",
       "            4                       1\n",
       "Name: id, dtype: int64"
      ]
     },
     "execution_count": 32,
     "metadata": {},
     "output_type": "execute_result"
    }
   ],
   "source": [
    "df.groupby([\"Depression\", \"Job Satisfaction\"])[\"id\"].nunique().sort_values(ascending=False)\n",
    "## The number of students who work satisfaction =0 \"not satisfied\" with their work satisfaction has depression more than others."
   ]
  },
  {
   "cell_type": "code",
   "execution_count": 35,
   "id": "db8822b9-78e4-4074-87ec-e1276104e74d",
   "metadata": {},
   "outputs": [
    {
     "data": {
      "text/plain": [
       "Depression  Dietary Habits\n",
       "1           Unhealthy         7297\n",
       "            Moderate          5558\n",
       "0           Moderate          4363\n",
       "            Healthy           4178\n",
       "1           Healthy           3473\n",
       "0           Unhealthy         3020\n",
       "1           Others               8\n",
       "0           Others               4\n",
       "Name: id, dtype: int64"
      ]
     },
     "execution_count": 35,
     "metadata": {},
     "output_type": "execute_result"
    }
   ],
   "source": [
    "df.groupby([\"Depression\", \"Dietary Habits\"])[\"id\"].nunique().sort_values(ascending=False)\n",
    "##The number of students who are unhealthy, have depression more than others."
   ]
  },
  {
   "cell_type": "code",
   "execution_count": 36,
   "id": "821f0c8d-d25e-4fe7-b92f-aa0bfa11ff25",
   "metadata": {},
   "outputs": [
    {
     "data": {
      "text/plain": [
       "Depression  Degree    \n",
       "1           'Class 12'    4303\n",
       "0           'Class 12'    1777\n",
       "1           B.Ed          1021\n",
       "            B.Arch         871\n",
       "            B.Com          853\n",
       "0           B.Ed           846\n",
       "1           BCA            819\n",
       "            MSc            679\n",
       "            B.Tech         655\n",
       "0           B.Com          653\n",
       "            BCA            614\n",
       "            B.Arch         607\n",
       "1           MCA            559\n",
       "            BSc            523\n",
       "            M.Tech         521\n",
       "0           MSc            511\n",
       "1           BHM            509\n",
       "0           M.Tech         501\n",
       "            B.Tech         497\n",
       "            MCA            485\n",
       "1           B.Pharm        428\n",
       "0           BHM            416\n",
       "1           M.Ed           415\n",
       "            BBA            407\n",
       "0           M.Ed           406\n",
       "1           MBBS           404\n",
       "            M.Com          390\n",
       "0           B.Pharm        382\n",
       "            BSc            365\n",
       "1           LLB            356\n",
       "0           M.Com          344\n",
       "1           BE             334\n",
       "            BA             321\n",
       "0           LLB            315\n",
       "1           M.Pharm        314\n",
       "            MBA            303\n",
       "            MD             298\n",
       "0           MBBS           292\n",
       "1           MA             290\n",
       "0           BBA            289\n",
       "1           PhD            286\n",
       "0           BA             279\n",
       "            BE             279\n",
       "            MD             274\n",
       "            M.Pharm        268\n",
       "1           LLM            259\n",
       "0           MBA            259\n",
       "            MA             254\n",
       "            PhD            236\n",
       "            LLM            223\n",
       "1           MHM             99\n",
       "            ME              98\n",
       "0           MHM             92\n",
       "            ME              87\n",
       "1           Others          21\n",
       "0           Others          14\n",
       "Name: id, dtype: int64"
      ]
     },
     "execution_count": 36,
     "metadata": {},
     "output_type": "execute_result"
    }
   ],
   "source": [
    "df.groupby([\"Depression\", \"Degree\"])[\"id\"].nunique().sort_values(ascending=False)\n",
    "##The number of students who are in class 12, have depression more than others."
   ]
  },
  {
   "cell_type": "code",
   "execution_count": 37,
   "id": "c5c84649-ed76-4d61-b45c-5a6ac40cdfc5",
   "metadata": {},
   "outputs": [
    {
     "data": {
      "text/plain": [
       "Depression  Have you ever had suicidal thoughts ?\n",
       "1           Yes                                      13957\n",
       "0           No                                        7866\n",
       "            Yes                                       3699\n",
       "1           No                                        2379\n",
       "Name: id, dtype: int64"
      ]
     },
     "execution_count": 37,
     "metadata": {},
     "output_type": "execute_result"
    }
   ],
   "source": [
    "df.groupby([\"Depression\", \"Have you ever had suicidal thoughts ?\"])[\"id\"].nunique().sort_values(ascending=False)\n",
    "##The number of students who have suicidal thoughts is depressed compared to others."
   ]
  },
  {
   "cell_type": "code",
   "execution_count": 38,
   "id": "b8e1862c-16ca-42c0-8e29-2092b53f8b14",
   "metadata": {},
   "outputs": [
    {
     "data": {
      "text/plain": [
       "Depression  Work/Study Hours\n",
       "1           10                  2979\n",
       "            12                  2169\n",
       "            11                  1960\n",
       "            8                   1568\n",
       "            6                   1288\n",
       "0           10                  1255\n",
       "1           9                   1214\n",
       "            7                   1176\n",
       "0           0                   1096\n",
       "            12                  1003\n",
       "            6                    959\n",
       "            8                    941\n",
       "            11                   932\n",
       "            2                    894\n",
       "            7                    825\n",
       "1           4                    815\n",
       "0           9                    812\n",
       "            4                    799\n",
       "            3                    773\n",
       "1           5                    706\n",
       "            3                    697\n",
       "            2                    696\n",
       "0           1                    686\n",
       "1           0                    604\n",
       "0           5                    590\n",
       "1           1                    464\n",
       "Name: id, dtype: int64"
      ]
     },
     "execution_count": 38,
     "metadata": {},
     "output_type": "execute_result"
    }
   ],
   "source": [
    "df.groupby([\"Depression\", \"Work/Study Hours\"])[\"id\"].nunique().sort_values(ascending=False)\n",
    "##The number of students who study 10-12 h is depressed compared to others."
   ]
  },
  {
   "cell_type": "code",
   "execution_count": 39,
   "id": "b672c436-c9b8-46cc-8742-b607463c8c5e",
   "metadata": {},
   "outputs": [
    {
     "data": {
      "text/plain": [
       "Depression  Financial Stress\n",
       "1           5                   5458\n",
       "            4                   3990\n",
       "0           1                   3489\n",
       "1           3                   3080\n",
       "0           2                   2886\n",
       "1           2                   2175\n",
       "0           3                   2146\n",
       "            4                   1785\n",
       "1           1                   1632\n",
       "0           5                   1257\n",
       "            ?                      2\n",
       "1           ?                      1\n",
       "Name: id, dtype: int64"
      ]
     },
     "execution_count": 39,
     "metadata": {},
     "output_type": "execute_result"
    }
   ],
   "source": [
    "df.groupby([\"Depression\", \"Financial Stress\"])[\"id\"].nunique().sort_values(ascending=False)\n",
    "##The number of students who have 5/5 Financial Stress is depressed compared to others."
   ]
  },
  {
   "cell_type": "code",
   "execution_count": 40,
   "id": "8a6df21e-5c10-43e7-be0d-4b09273283c7",
   "metadata": {},
   "outputs": [
    {
     "data": {
      "text/plain": [
       "Depression  Age\n",
       "1           20     1579\n",
       "            24     1509\n",
       "            28     1308\n",
       "            18     1216\n",
       "            21     1169\n",
       "0           33     1155\n",
       "1           29     1103\n",
       "            19     1100\n",
       "            25     1082\n",
       "0           34     1066\n",
       "1           23     1051\n",
       "            27      887\n",
       "0           29      847\n",
       "            28      825\n",
       "            24      749\n",
       "            31      741\n",
       "1           33      738\n",
       "0           25      702\n",
       "1           22      701\n",
       "            31      686\n",
       "0           30      671\n",
       "1           26      663\n",
       "0           20      658\n",
       "1           32      655\n",
       "0           32      607\n",
       "            23      594\n",
       "            27      575\n",
       "            21      557\n",
       "            26      492\n",
       "1           30      474\n",
       "0           19      460\n",
       "            22      459\n",
       "1           34      402\n",
       "0           18      371\n",
       "            35        8\n",
       "            36        6\n",
       "            38        6\n",
       "1           38        2\n",
       "            39        2\n",
       "0           48        2\n",
       "            42        2\n",
       "            37        2\n",
       "1           35        2\n",
       "            42        2\n",
       "0           44        1\n",
       "            43        1\n",
       "            39        1\n",
       "            46        1\n",
       "            58        1\n",
       "            59        1\n",
       "            51        1\n",
       "            56        1\n",
       "            54        1\n",
       "            49        1\n",
       "1           36        1\n",
       "            41        1\n",
       "            43        1\n",
       "            46        1\n",
       "            48        1\n",
       "Name: id, dtype: int64"
      ]
     },
     "execution_count": 40,
     "metadata": {},
     "output_type": "execute_result"
    }
   ],
   "source": [
    "df.groupby([\"Depression\", \"Age\"])[\"id\"].nunique().sort_values(ascending=False)\n",
    "##The number of students who are 20s is depressed compared to others."
   ]
  },
  {
   "cell_type": "code",
   "execution_count": 41,
   "id": "58b8b908-212b-4e4f-8647-8961482e96d3",
   "metadata": {},
   "outputs": [
    {
     "name": "stdout",
     "output_type": "stream",
     "text": [
      "Average CGPA based on Academic Pressure:\n",
      "   Academic Pressure      CGPA\n",
      "0                  0  2.173333\n",
      "1                  1  7.724066\n",
      "2                  2  7.699495\n",
      "3                  3  7.646876\n",
      "4                  4  7.616541\n",
      "5                  5  7.626653\n"
     ]
    }
   ],
   "source": [
    "## How does academic pressure relate to CGPA?\n",
    "correlation_CGPA_pressure = df.groupby('Academic Pressure')['CGPA'].mean().reset_index()\n",
    "print(\"Average CGPA based on Academic Pressure:\")\n",
    "print(correlation_CGPA_pressure)"
   ]
  },
  {
   "cell_type": "code",
   "execution_count": 48,
   "id": "6af34d8b-1d7b-48b0-99d8-4b9a27c180dc",
   "metadata": {},
   "outputs": [
    {
     "name": "stdout",
     "output_type": "stream",
     "text": [
      "Distribution of Depression by Gender:\n",
      "Depression     0     1\n",
      "Gender                \n",
      "Female      5133  7221\n",
      "Male        6432  9115\n"
     ]
    }
   ],
   "source": [
    "## What is the distribution of depression by gender?\n",
    "gender_depression_distribution = df.groupby(['Gender', 'Depression']).size().unstack(fill_value=0)\n",
    "print(\"Distribution of Depression by Gender:\")\n",
    "print(gender_depression_distribution)"
   ]
  },
  {
   "cell_type": "code",
   "execution_count": 51,
   "id": "fe5dddd6-63e0-47d1-8239-c8232c4d54b9",
   "metadata": {},
   "outputs": [
    {
     "name": "stdout",
     "output_type": "stream",
     "text": [
      "Depression cases based on Sleep Duration:\n",
      "Depression              0     1\n",
      "Sleep Duration                 \n",
      "'5-6 hours'          2666  3517\n",
      "'7-8 hours'          2975  4371\n",
      "'Less than 5 hours'  2949  5361\n",
      "'More than 8 hours'  2966  3078\n",
      "Others                  9     9\n"
     ]
    }
   ],
   "source": [
    "## Does sleep duration affect depression? \n",
    "sleep_depression_relation = df.groupby(['Sleep Duration', 'Depression']).size().unstack(fill_value=0)\n",
    "print(\"Depression cases based on Sleep Duration:\")\n",
    "print(sleep_depression_relation)"
   ]
  },
  {
   "cell_type": "code",
   "execution_count": 52,
   "id": "f490f319-5ca2-4706-ae34-109ef599b3c9",
   "metadata": {},
   "outputs": [
    {
     "name": "stdout",
     "output_type": "stream",
     "text": [
      "Financial Stress and Suicidal Thoughts Correlation:\n",
      "Have you ever had suicidal thoughts ?    No   Yes\n",
      "Financial Stress                                 \n",
      "1                                      2656  2465\n",
      "2                                      2318  2743\n",
      "3                                      1879  3347\n",
      "4                                      1758  4017\n",
      "5                                      1631  5084\n",
      "?                                         3     0\n"
     ]
    }
   ],
   "source": [
    " ## Is there a link between financial stress and suicidal thoughts?\n",
    "financial_stress_suicidal_thoughts = df.groupby(['Financial Stress', 'Have you ever had suicidal thoughts ?']).size().unstack(fill_value=0)\n",
    "print(\"Financial Stress and Suicidal Thoughts Correlation:\")\n",
    "print(financial_stress_suicidal_thoughts)"
   ]
  },
  {
   "cell_type": "code",
   "execution_count": 59,
   "id": "8ee6af75-5578-439a-931f-a07ebb85bb43",
   "metadata": {},
   "outputs": [],
   "source": [
    "df.to_excel(\"cleaned data,capstone.xlsx\", index=False)"
   ]
  },
  {
   "cell_type": "code",
   "execution_count": null,
   "id": "e67ca9e8-d026-4b89-b100-8bc5c6926c46",
   "metadata": {},
   "outputs": [],
   "source": []
  }
 ],
 "metadata": {
  "kernelspec": {
   "display_name": "Python 3 (ipykernel)",
   "language": "python",
   "name": "python3"
  },
  "language_info": {
   "codemirror_mode": {
    "name": "ipython",
    "version": 3
   },
   "file_extension": ".py",
   "mimetype": "text/x-python",
   "name": "python",
   "nbconvert_exporter": "python",
   "pygments_lexer": "ipython3",
   "version": "3.13.5"
  }
 },
 "nbformat": 4,
 "nbformat_minor": 5
}
